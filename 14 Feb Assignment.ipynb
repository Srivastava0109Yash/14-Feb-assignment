{
 "cells": [
  {
   "cell_type": "markdown",
   "id": "21e018c1",
   "metadata": {},
   "source": [
    "### Q1. What is multithreading in python? Why is it used? Name the module used to handle threads in python"
   ]
  },
  {
   "cell_type": "markdown",
   "id": "3fd22e8d",
   "metadata": {},
   "source": [
    "Multihreading in python is a technique that allows multiple threads to run concurrently within single process.It is used to improve the performance of a program by executing multiple task simultaneously.\n",
    "\n",
    "__Threading__ module is used to handle threads in python."
   ]
  },
  {
   "cell_type": "code",
   "execution_count": null,
   "id": "1da41db9",
   "metadata": {},
   "outputs": [],
   "source": [
    "  "
   ]
  },
  {
   "cell_type": "markdown",
   "id": "0a700222",
   "metadata": {},
   "source": [
    "### Q2. Why threading module used? Write the use of the following functions:\n",
    "\n",
    "####  1.activeCount()      2.currentThread()       3.enumerate()      "
   ]
  },
  {
   "cell_type": "markdown",
   "id": "de719530",
   "metadata": {},
   "source": [
    "Threading module is used to create and manage multiple threads within a single process.It provides a simple and efficient way to run multiple tasks simultaneously and take advantage of multi-core processors.By creating multiple threads, a program can execute different parts of the code in parallel, which can significantly improve its performance and responsiveness."
   ]
  },
  {
   "cell_type": "markdown",
   "id": "b92f3cca",
   "metadata": {},
   "source": [
    "__activeCount()__: This method returns the number of Thread objects that are active in the current program. An active thread is a thread that has been started but has not yet finished executing.\n",
    "\n",
    "__currentThread()__: This method returns a reference to the current Thread object. The current thread is the thread from which this method is called.\n",
    "\n",
    "__enumerate()__: This method returns a list of all Thread objects that are currently active in the program. "
   ]
  },
  {
   "cell_type": "code",
   "execution_count": null,
   "id": "8ac7803f",
   "metadata": {},
   "outputs": [],
   "source": []
  },
  {
   "cell_type": "markdown",
   "id": "119f379c",
   "metadata": {},
   "source": [
    "### Q3. Explain the following functions\n",
    "####  1.run()      2.start()       3.join()      4.isAlive()"
   ]
  },
  {
   "cell_type": "markdown",
   "id": "19d7539d",
   "metadata": {},
   "source": [
    "1. __run()__: This method is called when a thread is started using the start() method. It contains the code that will be executed in the thread.\n",
    "\n",
    "2. __start()__: This method is used to start a new thread. When it is called, a new thread is created and the run() method is executed in that thread.\n",
    "\n",
    "3. __join()__: This method is used to wait for a thread to finish its execution. When this method is called, the program will block until the thread has completed its task.\n",
    "\n",
    "4. __isAlive()__: This method is used to check if a thread is still running. It returns True if the thread is still running and False otherwise."
   ]
  },
  {
   "cell_type": "code",
   "execution_count": null,
   "id": "42790a43",
   "metadata": {},
   "outputs": [],
   "source": []
  },
  {
   "cell_type": "markdown",
   "id": "689079b9",
   "metadata": {},
   "source": [
    "### Q4.  Write a python program to create two threads. Thread one must print the list of squares and thread two must print the list of cubes"
   ]
  },
  {
   "cell_type": "code",
   "execution_count": 6,
   "id": "c4359a6f",
   "metadata": {},
   "outputs": [
    {
     "name": "stdout",
     "output_type": "stream",
     "text": [
      "enter a num: 9\n",
      "List of squares: [1, 4, 9, 16, 25, 36, 49, 64, 81]\n",
      "List of cubes: [1, 8, 27, 64, 125, 216, 343, 512, 729]\n"
     ]
    }
   ],
   "source": [
    "import threading\n",
    "\n",
    "def squares(n):\n",
    "    sq=[i**2 for i in range(1,n)]\n",
    "    print(\"List of squares:\",sq)\n",
    "    \n",
    "def cubes(n):\n",
    "    cubes = [i**3 for i in range(1,n)]\n",
    "    print(\"List of cubes:\", cubes)\n",
    "    \n",
    "n=int(input(\"enter a num: \"))\n",
    "    \n",
    "t1= threading.Thread(target=squares(n+1))\n",
    "t2=threading.Thread(target=cubes(n+1))\n",
    "\n",
    "t1.start()\n",
    "t2.start()\n",
    "\n",
    "t1.join()\n",
    "t2.join()\n",
    "\n"
   ]
  },
  {
   "cell_type": "code",
   "execution_count": null,
   "id": "e0087f72",
   "metadata": {},
   "outputs": [],
   "source": []
  },
  {
   "cell_type": "markdown",
   "id": "3f5ad5f4",
   "metadata": {},
   "source": [
    "### Q5. State advantages and disadvantages of multithreading"
   ]
  },
  {
   "cell_type": "markdown",
   "id": "5b750489",
   "metadata": {},
   "source": [
    "#### Advantages:\n",
    "\n"
   ]
  },
  {
   "cell_type": "markdown",
   "id": "9be32c6e",
   "metadata": {},
   "source": [
    "1. Improved performance: Multithreading can improve the performance of a program by allowing multiple tasks to be executed simultaneously on multiple cores, which can reduce the overall time it takes to complete a task.\n",
    "\n",
    "2. Resource sharing: Multithreading allows multiple threads to share resources, such as memory and files, which can make a program more efficient.\n",
    "\n",
    "3. Scalability: Multithreading can make a program more scalable by allowing it to handle a larger number of requests or users."
   ]
  },
  {
   "cell_type": "markdown",
   "id": "09a4bd33",
   "metadata": {},
   "source": [
    "#### Disadvantages:"
   ]
  },
  {
   "cell_type": "markdown",
   "id": "e9e9c0f0",
   "metadata": {},
   "source": [
    "1. Increased complexity: Multithreading can make a program more complex and harder to debug and maintain.\n",
    "2. Synchronization issues: Multithreading requires careful management of shared resources to avoid synchronization issues, such as deadlocks and race conditions.\n",
    "3. Difficulty in parallelizing certain tasks: Some tasks may be difficult to parallelize or may not benefit from multithreading, which can make it difficult to justify the use of multithreading in certain programs."
   ]
  },
  {
   "cell_type": "code",
   "execution_count": null,
   "id": "67ee4f6e",
   "metadata": {},
   "outputs": [],
   "source": []
  },
  {
   "cell_type": "markdown",
   "id": "d91adf62",
   "metadata": {},
   "source": [
    "### Q6. Explain deadlocks and race conditions."
   ]
  },
  {
   "cell_type": "markdown",
   "id": "54380bf5",
   "metadata": {},
   "source": [
    "__Deadlock__ is a synchronization issue that can occur in multithreaded programs, where two or more threads are waiting for a resource to release\n",
    "but the resource never gets released and stuck in a loop.the threads are stuck in a loop waiting for each other, and the program cannot make any further progress"
   ]
  },
  {
   "cell_type": "markdown",
   "id": "93d71918",
   "metadata": {},
   "source": [
    "1. __Mutual Exclusion__: The resources that threads are competing for must be non-shareable, meaning that only one thread can access the resource at a time. If a resource is not mutually exclusive, it cannot lead to a deadlock.\n",
    "\n",
    "2. __Hold and Wait__: A thread must be holding at least one resource and waiting for another resource that is currently held by another thread. In other words, threads must be able to request and hold resources without releasing them, which can lead to a situation where threads are blocked waiting for resources that are being held by other threads.\n",
    "\n",
    "3. __No Preemption__: Resources cannot be preempted or taken away from a thread until it is finished using them. This means that a thread that is holding a resource cannot be forced to release it, even if another thread is waiting for it.\n",
    "\n",
    "4. __Circular Wait__: A cycle of waiting must exist where two or more threads are waiting for resources that are held by the other threads in the cycle. In other words, there must be a circular chain of threads waiting for resources that are being held by other threads in the cycle.\n",
    "\n"
   ]
  },
  {
   "cell_type": "markdown",
   "id": "51277788",
   "metadata": {},
   "source": [
    "__A race condition__ occurs when two or more threads are accessing a shared resource simultaneously and the final result depends on the order in which the threads execute. In other words, the threads are \"racing\" to access and modify the resource, and the result depends on which thread finishes first. Race conditions can cause unpredictable and inconsistent behavior in a program, and can result in errors, crashes, or data corruption."
   ]
  },
  {
   "cell_type": "code",
   "execution_count": null,
   "id": "2bda3110",
   "metadata": {},
   "outputs": [],
   "source": []
  }
 ],
 "metadata": {
  "kernelspec": {
   "display_name": "Python 3 (ipykernel)",
   "language": "python",
   "name": "python3"
  },
  "language_info": {
   "codemirror_mode": {
    "name": "ipython",
    "version": 3
   },
   "file_extension": ".py",
   "mimetype": "text/x-python",
   "name": "python",
   "nbconvert_exporter": "python",
   "pygments_lexer": "ipython3",
   "version": "3.9.13"
  }
 },
 "nbformat": 4,
 "nbformat_minor": 5
}
